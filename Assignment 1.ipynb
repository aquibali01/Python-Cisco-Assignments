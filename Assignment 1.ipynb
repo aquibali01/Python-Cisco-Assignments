{
 "cells": [
  {
   "cell_type": "markdown",
   "metadata": {},
   "source": [
    "# Task 1"
   ]
  },
  {
   "cell_type": "code",
   "execution_count": 1,
   "metadata": {},
   "outputs": [
    {
     "name": "stdout",
     "output_type": "stream",
     "text": [
      "Twinkle, twinkle, little star, \n",
      "\t How I wonder what you are! \n",
      "\t\t Up above the world so high, \n",
      "\t\t like a diamond in the sky. \n",
      "Twinkle, twinkle, little star, \n",
      "\t How I wonder what you are \n"
     ]
    }
   ],
   "source": [
    "print(\"Twinkle, twinkle, little star, \\n\\t How I wonder what you are! \\n\\t\\t Up above the world so high, \\n\\t\\t like a diamond in the sky. \\nTwinkle, twinkle, little star, \\n\\t How I wonder what you are \")"
   ]
  },
  {
   "cell_type": "markdown",
   "metadata": {},
   "source": [
    "# Task 2\n"
   ]
  },
  {
   "cell_type": "code",
   "execution_count": 3,
   "metadata": {},
   "outputs": [
    {
     "name": "stdout",
     "output_type": "stream",
     "text": [
      "3.7.3\n"
     ]
    }
   ],
   "source": [
    "import platform \n",
    "print(platform.python_version())"
   ]
  },
  {
   "cell_type": "markdown",
   "metadata": {},
   "source": [
    "# Task 3"
   ]
  },
  {
   "cell_type": "code",
   "execution_count": 14,
   "metadata": {},
   "outputs": [
    {
     "name": "stdout",
     "output_type": "stream",
     "text": [
      "Current date is =  04 11 2019\n",
      "Current time is =  19 22 26\n"
     ]
    }
   ],
   "source": [
    "import datetime\n",
    "\n",
    "dateTime = datetime.datetime.now()\n",
    "\n",
    "date = dateTime.strftime('%d %m %Y')\n",
    "\n",
    "time = dateTime.strftime('%H %M %S')\n",
    "\n",
    "print(\"Current date is = \", date)\n",
    "print(\"Current time is = \", time)"
   ]
  },
  {
   "cell_type": "markdown",
   "metadata": {},
   "source": [
    "# Task 4"
   ]
  },
  {
   "cell_type": "code",
   "execution_count": 17,
   "metadata": {},
   "outputs": [
    {
     "name": "stdout",
     "output_type": "stream",
     "text": [
      "Enter the radius of the circle 2\n",
      "Area of circle is  12.588\n"
     ]
    }
   ],
   "source": [
    "radius = int(input(\"Enter the radius of the circle \"))\n",
    "pi = 3.147\n",
    "areaOfCircle = pi*(radius**2)\n",
    "print(\"Area of circle is \", areaOfCircle)"
   ]
  },
  {
   "cell_type": "markdown",
   "metadata": {},
   "source": [
    "# Task 5"
   ]
  },
  {
   "cell_type": "code",
   "execution_count": 20,
   "metadata": {},
   "outputs": [
    {
     "name": "stdout",
     "output_type": "stream",
     "text": [
      "Enter first & last name aquib ali\n",
      "Name in reverse order is:  ila biuqa\n"
     ]
    }
   ],
   "source": [
    "name = input(\"Enter first & last name \")\n",
    "\n",
    "print(\"Name in reverse order is: \",name[-1::-1], sep=\" \")"
   ]
  },
  {
   "cell_type": "markdown",
   "metadata": {},
   "source": [
    "# Task 6"
   ]
  },
  {
   "cell_type": "code",
   "execution_count": 21,
   "metadata": {},
   "outputs": [
    {
     "name": "stdout",
     "output_type": "stream",
     "text": [
      "Enter first input12\n",
      "Enter second input21\n",
      "1221\n"
     ]
    }
   ],
   "source": [
    "input1 = input(\"Enter first input\")\n",
    "input2 = input(\"Enter second input\")\n",
    "\n",
    "print(input1+input2)"
   ]
  },
  {
   "cell_type": "code",
   "execution_count": null,
   "metadata": {},
   "outputs": [],
   "source": []
  }
 ],
 "metadata": {
  "kernelspec": {
   "display_name": "Python 3",
   "language": "python",
   "name": "python3"
  },
  "language_info": {
   "codemirror_mode": {
    "name": "ipython",
    "version": 3
   },
   "file_extension": ".py",
   "mimetype": "text/x-python",
   "name": "python",
   "nbconvert_exporter": "python",
   "pygments_lexer": "ipython3",
   "version": "3.7.3"
  }
 },
 "nbformat": 4,
 "nbformat_minor": 2
}
