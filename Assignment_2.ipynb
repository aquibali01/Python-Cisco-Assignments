{
 "cells": [
  {
   "cell_type": "markdown",
   "metadata": {},
   "source": [
    "# Task 1"
   ]
  },
  {
   "cell_type": "code",
   "execution_count": 4,
   "metadata": {},
   "outputs": [
    {
     "name": "stdout",
     "output_type": "stream",
     "text": [
      "Enter the marks of Maths 85\n",
      "Enter the marks of English 78\n",
      "Enter the marks of Science 77\n",
      "Enter the marks of Islamiat 69\n",
      "Enter the marks of Bioloy 87\n",
      "Percentage  79.2\n",
      "You got C Grade\n"
     ]
    }
   ],
   "source": [
    "maths = int(input(\"Enter the marks of Maths \"))\n",
    "english = int(input(\"Enter the marks of English \"))\n",
    "science = int(input(\"Enter the marks of Science \"))\n",
    "islamiat = int(input(\"Enter the marks of Islamiat \"))\n",
    "biology = int(input(\"Enter the marks of Bioloy \"))\n",
    "\n",
    "totalMarks = 500\n",
    "\n",
    "percentage = ((maths+english+science+islamiat+biology)/totalMarks)*100\n",
    "print(\"Percentage \", percentage)\n",
    "\n",
    "if percentage >= 90 and percentage <100:\n",
    "    print(\"You got A Grade\")\n",
    "elif percentage >= 80 and percentage <90:\n",
    "    print(\"You got B Grade\")\n",
    "elif percentage >= 70 and percentage <80:\n",
    "    print(\"You got C Grade\")\n",
    "else:\n",
    "    print(\"You Failed\")\n"
   ]
  },
  {
   "cell_type": "markdown",
   "metadata": {},
   "source": [
    "# Task 2 "
   ]
  },
  {
   "cell_type": "code",
   "execution_count": 7,
   "metadata": {},
   "outputs": [
    {
     "name": "stdout",
     "output_type": "stream",
     "text": [
      "Enter the number to check Even or Odd 8\n",
      "The number is Even\n"
     ]
    }
   ],
   "source": [
    "number = int(input(\"Enter the number to check Even or Odd \"))\n",
    "\n",
    "if number % 2 == 0:\n",
    "    print(\"The number is Even\")\n",
    "else:\n",
    "    print(\"The number is odd\")"
   ]
  },
  {
   "cell_type": "markdown",
   "metadata": {},
   "source": [
    "# Task 3"
   ]
  },
  {
   "cell_type": "code",
   "execution_count": 9,
   "metadata": {},
   "outputs": [
    {
     "name": "stdout",
     "output_type": "stream",
     "text": [
      "The length of the list is 3\n"
     ]
    }
   ],
   "source": [
    "list = [\"Pakistan\", 12, True]\n",
    "\n",
    "print(\"The length of the list is\", len(list))"
   ]
  },
  {
   "cell_type": "markdown",
   "metadata": {},
   "source": [
    "# Task 4"
   ]
  },
  {
   "cell_type": "code",
   "execution_count": 11,
   "metadata": {},
   "outputs": [
    {
     "name": "stdout",
     "output_type": "stream",
     "text": [
      "52\n"
     ]
    }
   ],
   "source": [
    "list1 = [2, \"karachi\", 50 , False]\n",
    "sum = 0\n",
    "for item in list1:\n",
    "    if type(item) == int or type(item) == float:\n",
    "        sum = sum + item\n",
    "print(sum)"
   ]
  },
  {
   "cell_type": "markdown",
   "metadata": {},
   "source": [
    "# Task 5 "
   ]
  },
  {
   "cell_type": "code",
   "execution_count": 22,
   "metadata": {},
   "outputs": [
    {
     "name": "stdout",
     "output_type": "stream",
     "text": [
      "21\n"
     ]
    }
   ],
   "source": [
    "numList = [9,4,21,6,8]\n",
    "maximum = [0]\n",
    "for x in numList:\n",
    "    if x > maximum[-1]:\n",
    "        maximum.append(x)\n",
    "print(maximum[-1])"
   ]
  },
  {
   "cell_type": "markdown",
   "metadata": {},
   "source": [
    "# Task 6"
   ]
  },
  {
   "cell_type": "code",
   "execution_count": 24,
   "metadata": {},
   "outputs": [
    {
     "name": "stdout",
     "output_type": "stream",
     "text": [
      "0\n",
      "2\n",
      "3\n",
      "3\n",
      "1\n"
     ]
    }
   ],
   "source": [
    "A = [0,7,9,8,2,3,5,8,10,32,3,1]\n",
    "\n",
    "for num in A:\n",
    "    if num < 5:\n",
    "        print(num)"
   ]
  },
  {
   "cell_type": "code",
   "execution_count": null,
   "metadata": {},
   "outputs": [],
   "source": []
  }
 ],
 "metadata": {
  "kernelspec": {
   "display_name": "Python 3",
   "language": "python",
   "name": "python3"
  },
  "language_info": {
   "codemirror_mode": {
    "name": "ipython",
    "version": 3
   },
   "file_extension": ".py",
   "mimetype": "text/x-python",
   "name": "python",
   "nbconvert_exporter": "python",
   "pygments_lexer": "ipython3",
   "version": "3.7.3"
  }
 },
 "nbformat": 4,
 "nbformat_minor": 2
}
