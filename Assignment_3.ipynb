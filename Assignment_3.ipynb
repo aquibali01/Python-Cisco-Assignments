{
 "cells": [
  {
   "cell_type": "markdown",
   "metadata": {},
   "source": [
    "# Task 1 "
   ]
  },
  {
   "cell_type": "code",
   "execution_count": 13,
   "metadata": {},
   "outputs": [
    {
     "name": "stdout",
     "output_type": "stream",
     "text": [
      "Enter first number 2\n",
      "Enter second number 2\n",
      "Enter the operator (+,-,*,/,**) 3\n",
      "Invalid operation\n"
     ]
    }
   ],
   "source": [
    "num1 = int(input(\"Enter first number \"))\n",
    "num2 = int(input(\"Enter second number \"))\n",
    "oper = input(\"Enter the operator (+,-,*,/,**) \")\n",
    "\n",
    "if oper == \"+\":\n",
    "    result = num1 + num2\n",
    "    print(\"The addition of \", num1, \" and \", num2, \" is \", result)\n",
    "elif oper == \"-\":\n",
    "    result = num1 - num2\n",
    "    print(\"The substraction of \", num1, \" and \", num2, \" is \", result)\n",
    "elif oper == \"*\":\n",
    "    result = num1 * num2\n",
    "    print(\"The mulltiplication of \", num1, \" and \", num2, \" is \", result)\n",
    "elif oper == \"/\":\n",
    "    result = num1 / num2\n",
    "    print(\"The division of \", num1, \" and \", num2, \" is \", result)\n",
    "elif oper == \"**\":\n",
    "    result = num1 ** num2\n",
    "    print(\"The power of \", num1, \" to \", num2, \" is \", result)\n",
    "else:\n",
    "    print(\"Invalid operation\")\n"
   ]
  },
  {
   "cell_type": "markdown",
   "metadata": {},
   "source": [
    "# Task 2"
   ]
  },
  {
   "cell_type": "code",
   "execution_count": 12,
   "metadata": {},
   "outputs": [
    {
     "name": "stdout",
     "output_type": "stream",
     "text": [
      "There is a numeric value in the list \n"
     ]
    }
   ],
   "source": [
    "a_list = [\"ali\", 4, \"furqan\" , True]\n",
    "\n",
    "for num in a_list:\n",
    "    if type(num) == int or type(num) == float:\n",
    "        print(\"There is a numeric value in the list \")\n",
    "\n",
    "    "
   ]
  },
  {
   "cell_type": "markdown",
   "metadata": {},
   "source": [
    "# Task 3"
   ]
  },
  {
   "cell_type": "code",
   "execution_count": 15,
   "metadata": {},
   "outputs": [
    {
     "name": "stdout",
     "output_type": "stream",
     "text": [
      "{'name': 'aquib'}\n"
     ]
    }
   ],
   "source": [
    "dict = {}\n",
    "\n",
    "dict.update({\"name\": \"aquib\"})\n",
    "\n",
    "print(dict)"
   ]
  },
  {
   "cell_type": "markdown",
   "metadata": {},
   "source": [
    "# Task 4"
   ]
  },
  {
   "cell_type": "code",
   "execution_count": 19,
   "metadata": {},
   "outputs": [
    {
     "name": "stdout",
     "output_type": "stream",
     "text": [
      "Summation of all the numeric variable in the list is 17.0\n"
     ]
    }
   ],
   "source": [
    "b_list = [\"alia\", 5, \"farhan\" , True, 10 , 2.0]\n",
    "summation = 0\n",
    "for num in b_list:\n",
    "    if type(num) == int or type(num) == float:\n",
    "        summation += num \n",
    "print(\"Summation of all the numeric variable in the list is\", summation)"
   ]
  },
  {
   "cell_type": "markdown",
   "metadata": {},
   "source": [
    "# Task 5"
   ]
  },
  {
   "cell_type": "code",
   "execution_count": 31,
   "metadata": {},
   "outputs": [
    {
     "name": "stdout",
     "output_type": "stream",
     "text": [
      "['haris', 'Taha', 1]\n"
     ]
    }
   ],
   "source": [
    "lst = [\"haris\", \"sabih\" , \"Taha\" , \"haris\", \"Taha\", 1, 1 ,10]\n",
    "dupItems = []\n",
    "uniqItems = {}\n",
    "for x in lst:\n",
    "   if x not in uniqItems:\n",
    "      uniqItems[x] = 1\n",
    "   else:\n",
    "      if uniqItems[x] == 1:\n",
    "         dupItems.append(x)\n",
    "      uniqItems[x] += 1\n",
    "print(dupItems)"
   ]
  },
  {
   "cell_type": "markdown",
   "metadata": {},
   "source": [
    "# Task 6"
   ]
  },
  {
   "cell_type": "code",
   "execution_count": 40,
   "metadata": {},
   "outputs": [
    {
     "name": "stdout",
     "output_type": "stream",
     "text": [
      "Enter the key to check 26\n",
      "26 key is present\n"
     ]
    }
   ],
   "source": [
    "dict1 = {\n",
    "    \"name\" : \"aquib\",\n",
    "    \"age\" : 27,\n",
    "    \"gender\" : \"male\",\n",
    "    26 : \"id\"\n",
    "}\n",
    "key = input(\"Enter the key to check \")\n",
    "if key in str(dict1.keys()):\n",
    "    print(key, \"key is present\")\n",
    "else:\n",
    "    print(key, \"key is not present\")\n",
    "    "
   ]
  },
  {
   "cell_type": "code",
   "execution_count": null,
   "metadata": {},
   "outputs": [],
   "source": []
  }
 ],
 "metadata": {
  "kernelspec": {
   "display_name": "Python 3",
   "language": "python",
   "name": "python3"
  },
  "language_info": {
   "codemirror_mode": {
    "name": "ipython",
    "version": 3
   },
   "file_extension": ".py",
   "mimetype": "text/x-python",
   "name": "python",
   "nbconvert_exporter": "python",
   "pygments_lexer": "ipython3",
   "version": "3.7.3"
  }
 },
 "nbformat": 4,
 "nbformat_minor": 2
}
