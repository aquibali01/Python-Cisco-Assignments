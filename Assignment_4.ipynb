{
 "cells": [
  {
   "cell_type": "markdown",
   "metadata": {},
   "source": [
    "# Task 1 "
   ]
  },
  {
   "cell_type": "code",
   "execution_count": 2,
   "metadata": {},
   "outputs": [],
   "source": [
    "person = {\n",
    "    \"first_name\" : \"Ali\",\n",
    "    \"last_name\" : \"tariq\",\n",
    "    \"age\" : 27,\n",
    "    \"city\" : \"karachi\"\n",
    "}\n"
   ]
  },
  {
   "cell_type": "code",
   "execution_count": 3,
   "metadata": {},
   "outputs": [
    {
     "data": {
      "text/plain": [
       "{'first_name': 'Ali',\n",
       " 'last_name': 'tariq',\n",
       " 'age': 27,\n",
       " 'city': 'karachi',\n",
       " 'qualification': 'Bachelors'}"
      ]
     },
     "execution_count": 3,
     "metadata": {},
     "output_type": "execute_result"
    }
   ],
   "source": [
    "person[\"qualification\"] = \"Bachelors\"\n",
    "\n",
    "person"
   ]
  },
  {
   "cell_type": "code",
   "execution_count": 4,
   "metadata": {},
   "outputs": [
    {
     "data": {
      "text/plain": [
       "{'first_name': 'Ali',\n",
       " 'last_name': 'tariq',\n",
       " 'age': 27,\n",
       " 'city': 'karachi',\n",
       " 'qualification': 'Masters'}"
      ]
     },
     "execution_count": 4,
     "metadata": {},
     "output_type": "execute_result"
    }
   ],
   "source": [
    "person[\"qualification\"] = \"Masters\"\n",
    "\n",
    "person"
   ]
  },
  {
   "cell_type": "code",
   "execution_count": 5,
   "metadata": {},
   "outputs": [],
   "source": [
    "del person[\"qualification\"] "
   ]
  },
  {
   "cell_type": "code",
   "execution_count": 6,
   "metadata": {},
   "outputs": [
    {
     "data": {
      "text/plain": [
       "{'first_name': 'Ali', 'last_name': 'tariq', 'age': 27, 'city': 'karachi'}"
      ]
     },
     "execution_count": 6,
     "metadata": {},
     "output_type": "execute_result"
    }
   ],
   "source": [
    "person"
   ]
  },
  {
   "cell_type": "markdown",
   "metadata": {},
   "source": [
    "# Task 2"
   ]
  },
  {
   "cell_type": "code",
   "execution_count": 8,
   "metadata": {},
   "outputs": [],
   "source": [
    "cities = {\n",
    "    \"Karachi\" : {\n",
    "        \"country\" : \"Pakistan\",\n",
    "        \"population\" : \"14.91 million\",\n",
    "        \"fact\" : \"Karachi is the Sixth largest City of the world by population\"\n",
    "    },\n",
    "    \"Beijing\" : {\n",
    "        \"country\" : \"China\",\n",
    "        \"population\" : \"21.54 million\",\n",
    "        \"fact\" : \"Beijing is one of the oldest cities in the world\"        \n",
    "    },\n",
    "    \"London\" : {\n",
    "        \"country\" : \"United Kingdom\",\n",
    "        \"population\" : \"8.9 million\",\n",
    "        \"fact\" : \"More Than 300 Languages Are Spoken In London\"\n",
    "    }\n",
    "}"
   ]
  },
  {
   "cell_type": "code",
   "execution_count": 10,
   "metadata": {},
   "outputs": [
    {
     "data": {
      "text/plain": [
       "'Pakistan'"
      ]
     },
     "execution_count": 10,
     "metadata": {},
     "output_type": "execute_result"
    }
   ],
   "source": [
    "cities[\"Karachi\"][\"country\"]"
   ]
  },
  {
   "cell_type": "code",
   "execution_count": 12,
   "metadata": {},
   "outputs": [
    {
     "data": {
      "text/plain": [
       "'More Than 300 Languages Are Spoken In London'"
      ]
     },
     "execution_count": 12,
     "metadata": {},
     "output_type": "execute_result"
    }
   ],
   "source": [
    "cities[\"London\"][\"fact\"]"
   ]
  },
  {
   "cell_type": "markdown",
   "metadata": {},
   "source": [
    "# Task 3"
   ]
  },
  {
   "cell_type": "code",
   "execution_count": 27,
   "metadata": {},
   "outputs": [
    {
     "name": "stdout",
     "output_type": "stream",
     "text": [
      "Welcome to ABC Theathre \n",
      "\n",
      "Children under the age of 3 : Free \n",
      "Age 3-12: 10$ \n",
      "Age 12 and above: 15$\n",
      "\n",
      "\n",
      "How many person are there? 3\n",
      "Enter the age of a person 2\n",
      "Enter the age of a person 6\n",
      "Enter the age of a person 15\n",
      "Thank you for ordering the tickets, your total amount for 3 person is : 25 dollars\n"
     ]
    }
   ],
   "source": [
    "print(\"Welcome to ABC Theathre \\n\\nChildren under the age of 3 : Free \\nAge 3-12: 10$ \\nAge 12 and above: 15$\\n\\n\")\n",
    "person = int(input(\"How many person are there? \"))\n",
    "sum = 0\n",
    "for i in range(person):\n",
    "    age = int(input(\"Enter the age of a person \"))\n",
    "    if age < 3:\n",
    "        sum +=0\n",
    "    elif age >=3 and age <= 12:\n",
    "        sum +=10\n",
    "    elif age > 12:\n",
    "        sum +=15\n",
    "print(\"Thank you for ordering the tickets, your total amount for\", person, \"person is :\" , sum, \"dollars\")"
   ]
  },
  {
   "cell_type": "markdown",
   "metadata": {},
   "source": [
    "# Task 4"
   ]
  },
  {
   "cell_type": "code",
   "execution_count": 17,
   "metadata": {},
   "outputs": [
    {
     "name": "stdout",
     "output_type": "stream",
     "text": [
      "One of my favorite book is Alice in the Wonderland\n"
     ]
    }
   ],
   "source": [
    "def favorite_book(title):\n",
    "    print(\"One of my favorite book is\", title)\n",
    "    \n",
    "favorite_book(\"Alice in the Wonderland\")"
   ]
  },
  {
   "cell_type": "markdown",
   "metadata": {},
   "source": [
    "# task 5"
   ]
  },
  {
   "cell_type": "code",
   "execution_count": 32,
   "metadata": {},
   "outputs": [
    {
     "name": "stdout",
     "output_type": "stream",
     "text": [
      "What is your name ? aquib Ali\n",
      "Welcome aquib Ali ! \n",
      "Let's a play a guessing game \n",
      "You have to guess a number between 1 to 30 and you have only 3 guesses  \n",
      "Guess The number: 2\n",
      "Wrong answer ! you should increase the number\n",
      "You have 2 guesses left\n",
      "Guess The number: 15\n",
      "Wrong answer! you should decrease the number\n",
      "You have 1 guesses left\n",
      "Guess The number: 6\n",
      "Game over !!\n",
      "Correct answer was 11\n"
     ]
    }
   ],
   "source": [
    "# importing randrange from random module to generate a random number between 1 to 30\n",
    "from random import randrange\n",
    "HiddenNumber = (randrange(30))\n",
    "#Basic name and initial instruction\n",
    "Name = input(\"What is your name ? \")\n",
    "print(f\"Welcome {Name} ! \\nLet's a play a guessing game \\nYou have to guess a number between 1 to 30 and you have only 3 guesses  \")\n",
    "#Inputting the number to guess\n",
    "GuessNumber = int(input(\"Guess The number: \"))\n",
    "guessCount = 3\n",
    "#Code for the guessing game \n",
    "while GuessNumber != HiddenNumber and guessCount > 1:\n",
    "    guessCount-=1\n",
    "    if GuessNumber < HiddenNumber:\n",
    "        print(f\"Wrong answer ! you should increase the number\" )\n",
    "    elif GuessNumber > HiddenNumber:\n",
    "        print(f\"Wrong answer! you should decrease the number\")\n",
    "    print(f\"You have {guessCount} guesses left\")\n",
    "    GuessNumber = int(input(\"Guess The number: \"))\n",
    "    if GuessNumber == HiddenNumber:\n",
    "        print(\"You Got it !! \")\n",
    "        print(f\"You guessed in {4-guessCount} guesses\")\n",
    "    elif guessCount == 1:\n",
    "        print(\"Game over !!\")\n",
    "        print(f\"Correct answer was {HiddenNumber}\")\n",
    "if GuessNumber == HiddenNumber and guessCount == 3:\n",
    "    print(\"You Got it !!\")\n",
    "    print(\"You guessed in first attempt ! \")"
   ]
  },
  {
   "cell_type": "code",
   "execution_count": null,
   "metadata": {},
   "outputs": [],
   "source": []
  }
 ],
 "metadata": {
  "kernelspec": {
   "display_name": "Python 3",
   "language": "python",
   "name": "python3"
  },
  "language_info": {
   "codemirror_mode": {
    "name": "ipython",
    "version": 3
   },
   "file_extension": ".py",
   "mimetype": "text/x-python",
   "name": "python",
   "nbconvert_exporter": "python",
   "pygments_lexer": "ipython3",
   "version": "3.7.3"
  }
 },
 "nbformat": 4,
 "nbformat_minor": 2
}
