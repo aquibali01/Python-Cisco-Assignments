{
 "cells": [
  {
   "cell_type": "markdown",
   "metadata": {},
   "source": [
    "# Question 1"
   ]
  },
  {
   "cell_type": "markdown",
   "metadata": {},
   "source": [
    "## Object Oriented programming is software design paradigm that allows you to think problems in terms of object and their interactions, OOP is done with classes.\n",
    "\n"
   ]
  },
  {
   "cell_type": "markdown",
   "metadata": {},
   "source": [
    "# Question 2"
   ]
  },
  {
   "cell_type": "markdown",
   "metadata": {},
   "source": [
    "## 1. It is easy to maintain and modify existing code as new objects can be created with small differences to existing ones.\n",
    "## 2. More reliable software developement is possible.\n",
    "## 3. It implements real life scenario.\n",
    "## 4. Implementation details are hidden from other modules and other modules has a clearly defined interface."
   ]
  },
  {
   "cell_type": "markdown",
   "metadata": {},
   "source": [
    "# Question 3 "
   ]
  },
  {
   "cell_type": "markdown",
   "metadata": {},
   "source": [
    "## Functions have independent existence. You can define them outside of the class, they are a self describing piece of code, Functions are called independently.\n",
    "\n",
    "## Methods do not have independent existence. They are always defined within a class, they are used to manipulate instance variable of a class. Methods are called using instance or object.\n"
   ]
  },
  {
   "cell_type": "markdown",
   "metadata": {},
   "source": [
    "# Question 4 "
   ]
  },
  {
   "cell_type": "markdown",
   "metadata": {},
   "source": [
    "## Class: It is a collection of method and variables. It is a blueprint that defines the data and behavior of a type.\n",
    "## object : They all have state and they all have behavior, For example, dogs have state (name, color, breed, hungry) and dogs have behavior (barking). In software, object maintain state with variable and behavior with methods.\n",
    "## Attribute: It denotes a part of an aggregate object, and so is used during analysis as well as design to express a singular property of the class.\n",
    "## Behavior: They are the tasks that an object performs. For example Ali(object) from the human class walks, eat and run"
   ]
  },
  {
   "cell_type": "markdown",
   "metadata": {},
   "source": [
    "# Question 5"
   ]
  },
  {
   "cell_type": "code",
   "execution_count": 1,
   "metadata": {},
   "outputs": [],
   "source": [
    "class Car:\n",
    "    def __init__(self, brand, model, color):\n",
    "        self.brand = brand\n",
    "        self.model = model\n",
    "        self.color = color\n",
    "        self.meter_reading = 0\n",
    "        self.fuel = 20 \n",
    "        \n",
    "    def get_description_name(self):\n",
    "        return f'My new car is {self.brand} {self.model} in {self.color}'\n",
    "    def read_meter_reading(self):\n",
    "        return f'the reading on the meter is {self.meter_reading}'\n",
    "    def update_meter_reading(self, mileage):\n",
    "        if self.meter_reading < mileage:\n",
    "            self.meter_reading = mileage\n",
    "            print(\"Meter reading has been updated\")\n",
    "        else:\n",
    "            print(\"Meter reading cannot be updated\")\n",
    "    def increment_meter_reading (self, miles):\n",
    "        self.meter_reading+=miles\n",
    "        print(f\"You have incremented {miles} miles\")\n",
    "    def decrement_meter_reading(self, miles):\n",
    "        self.meter_reading-=miles\n",
    "        print(f\"You have decremented {miles} miles\")\n",
    "    def get_fuel(self):\n",
    "        print(f\"This car has {self.fuel} ltrs fuel\")\n",
    "            \n"
   ]
  },
  {
   "cell_type": "code",
   "execution_count": 2,
   "metadata": {},
   "outputs": [
    {
     "data": {
      "text/plain": [
       "'My new car is Honda 2019 in Black'"
      ]
     },
     "execution_count": 2,
     "metadata": {},
     "output_type": "execute_result"
    }
   ],
   "source": [
    "car1 = Car(\"Honda\",2019,\"Black\")\n",
    "car1.get_description_name()"
   ]
  },
  {
   "cell_type": "code",
   "execution_count": 3,
   "metadata": {},
   "outputs": [
    {
     "data": {
      "text/plain": [
       "'the reading on the meter is 0'"
      ]
     },
     "execution_count": 3,
     "metadata": {},
     "output_type": "execute_result"
    }
   ],
   "source": [
    "car2 = Car(\"Toyota\", 2018, \"Red\")\n",
    "car2.read_meter_reading()"
   ]
  },
  {
   "cell_type": "code",
   "execution_count": 4,
   "metadata": {},
   "outputs": [
    {
     "name": "stdout",
     "output_type": "stream",
     "text": [
      "Meter reading has been updated\n"
     ]
    }
   ],
   "source": [
    "car2.update_meter_reading(20)"
   ]
  },
  {
   "cell_type": "code",
   "execution_count": 5,
   "metadata": {},
   "outputs": [
    {
     "data": {
      "text/plain": [
       "'the reading on the meter is 20'"
      ]
     },
     "execution_count": 5,
     "metadata": {},
     "output_type": "execute_result"
    }
   ],
   "source": [
    "car2.read_meter_reading()"
   ]
  },
  {
   "cell_type": "code",
   "execution_count": 6,
   "metadata": {},
   "outputs": [
    {
     "name": "stdout",
     "output_type": "stream",
     "text": [
      "You have incremented 50 miles\n"
     ]
    }
   ],
   "source": [
    "car2.increment_meter_reading(50)"
   ]
  },
  {
   "cell_type": "code",
   "execution_count": 7,
   "metadata": {},
   "outputs": [
    {
     "data": {
      "text/plain": [
       "'the reading on the meter is 70'"
      ]
     },
     "execution_count": 7,
     "metadata": {},
     "output_type": "execute_result"
    }
   ],
   "source": [
    "car2.read_meter_reading()"
   ]
  },
  {
   "cell_type": "code",
   "execution_count": 8,
   "metadata": {},
   "outputs": [
    {
     "name": "stdout",
     "output_type": "stream",
     "text": [
      "You have decremented 30 miles\n"
     ]
    }
   ],
   "source": [
    "car2.decrement_meter_reading(30)"
   ]
  },
  {
   "cell_type": "code",
   "execution_count": 9,
   "metadata": {},
   "outputs": [
    {
     "data": {
      "text/plain": [
       "'the reading on the meter is 40'"
      ]
     },
     "execution_count": 9,
     "metadata": {},
     "output_type": "execute_result"
    }
   ],
   "source": [
    "car2.read_meter_reading()"
   ]
  },
  {
   "cell_type": "code",
   "execution_count": 10,
   "metadata": {},
   "outputs": [
    {
     "name": "stdout",
     "output_type": "stream",
     "text": [
      "This car has 20 ltrs fuel\n"
     ]
    }
   ],
   "source": [
    "car2.get_fuel()"
   ]
  },
  {
   "cell_type": "code",
   "execution_count": null,
   "metadata": {},
   "outputs": [],
   "source": []
  }
 ],
 "metadata": {
  "kernelspec": {
   "display_name": "Python 3",
   "language": "python",
   "name": "python3"
  },
  "language_info": {
   "codemirror_mode": {
    "name": "ipython",
    "version": 3
   },
   "file_extension": ".py",
   "mimetype": "text/x-python",
   "name": "python",
   "nbconvert_exporter": "python",
   "pygments_lexer": "ipython3",
   "version": "3.7.3"
  }
 },
 "nbformat": 4,
 "nbformat_minor": 2
}
